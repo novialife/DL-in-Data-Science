{
  "cells": [
    {
      "attachments": {},
      "cell_type": "markdown",
      "metadata": {
        "id": "Zy_XFVgVckTk"
      },
      "source": [
        "## EE 461P: Data Science Principles  \n",
        "### Homework 5\n",
        "### Total points: 100 points \n",
        "### Due: 14th April, 11:59pm    \n",
        "\n",
        "Your homework should be written in a **Jupyter notebook**. You may work in groups of two if you wish. Only one student per team needs to submit the assignment on Canvas.  But be sure to include name and UT eID for both students.  Homework groups will be created and managed through Canvas, so please do not arbitrarily change your homework group. If you do change, let the TAs know.\n",
        "\n",
        "Also, please make sure your code runs and the graphics (and anything else) are displayed in your notebook before submitting. (%matplotlib inline)\n",
        "\n",
        "### Name(s) and EID(s):\n",
        "1. Mervan Can Kaya, mk45596\n",
        "2. Jacob Dahlkvist, jad7543\n",
        "\n",
        "### Homework group No.: 20"
      ]
    },
    {
      "cell_type": "markdown",
      "metadata": {
        "id": "AmLndaMeDwrb"
      },
      "source": [
        "# Question 1: Bayesian Belief Networks [15 pts]\n",
        "\n"
      ]
    },
    {
      "cell_type": "markdown",
      "metadata": {
        "id": "LltKbWoIhdfz"
      },
      "source": [
        "Refer to the Bayesian Network Belief [image](https://drive.google.com/file/d/1dn5nwLxzzPk-HRqlF-JJZvREf1fPZG__/view?usp=share_link) for this question. "
      ]
    },
    {
      "cell_type": "markdown",
      "metadata": {
        "id": "N-uiFrHzrn27"
      },
      "source": [
        "![picture](https://drive.google.com/uc?id=1dn5nwLxzzPk-HRqlF-JJZvREf1fPZG__)"
      ]
    },
    {
      "cell_type": "markdown",
      "metadata": {
        "id": "6WX3FxClD-n7"
      },
      "source": [
        "All nodes are binary and can take 0/1 values\n",
        "\n",
        "The probabilities are given below:\n",
        "\n",
        "P(Season = 1) = .001   \n",
        "P(Atmospheric Pressure = 1) = .0.002\n",
        "\n",
        "\n",
        "P(Rain = 1 | Season = 0, Atmospheric Pressure = 0) = .001  \n",
        "P(Rain = 1 | Season = 0, Atmospheric Pressure = 1) = .29  \n",
        "P(Rain = 1 | Season = 1, Atmospheric Pressure = 0) = .94  \n",
        "P(Rain = 1 | Season = 1, Atmospheric Pressure = 1) = .95\n",
        "\n",
        "P(Umbrella = 1 | Rain = 1) = .9  \n",
        "P(Umbrella = 1 | Rain = 0) = .05\n",
        "\n",
        "For the given Bayesian network, compute the following probabilities : \n",
        "\n",
        "\n",
        "1.1 Find the probability that  Umbrella = 0. (4 points)\n",
        "\n",
        "1.2  Given that there is low Atmospheric Pressure (Atmospheric Pressure = 0), what is the probability that Rain = 1. (4 points)\n",
        "\n",
        "1.3  Given that it rains(Rain = 1), what is the probability that the it is rainy season (Season = 1). (7 points)"
      ]
    },
    {
      "attachments": {},
      "cell_type": "markdown",
      "metadata": {
        "id": "klZrfH7AEJdi"
      },
      "source": [
        "Answer:\n",
        "1.1 \n",
        "\n",
        "Law of total probability:\n",
        "\n",
        "\\begin{align*}\n",
        "P(Umbrella = 0) &= P(Umbrella = 0 | Rain = 0) \\times P(Rain = 0) + P(Umbrella = 0 | Rain = 1) \\times P(Rain = 1) \\\\\n",
        "&= (1 - P(Umbrella = 1 | Rain = 0)) \\times (1 - P(Rain = 1)) + (1 - P(Umbrella = 1 | Rain = 1)) \\times P(Rain = 1) \\\\\n",
        "&= (1 - 0.05) \\times (1 - P(Rain = 1)) + (1 - 0.9) \\times P(Rain = 1) \\\\\n",
        "&= 0.95 \\times (1 - P(Rain = 1)) + 0.1 \\times P(Rain = 1)\n",
        "\\end{align*}\n",
        "\n",
        "\\begin{align*}\n",
        "P(Rain = 1) &= P(Rain = 1 | Season = 0, Atmospheric Pressure = 0) \\times P(Season = 0) \\times P(Atmospheric Pressure = 0) \\\\\n",
        "&+ P(Rain = 1 | Season = 0, Atmospheric Pressure = 1) \\times P(Season = 0) \\times P(Atmospheric Pressure = 1) \\\\\n",
        "&+ P(Rain = 1 | Season = 1, Atmospheric Pressure = 0) \\times P(Season = 1) \\times P(Atmospheric Pressure = 0) \\\\\n",
        "&+ P(Rain = 1 | Season = 1, Atmospheric Pressure = 1) \\times P(Season = 1) \\times P(Atmospheric Pressure = 1) \\\\\n",
        "&= 0.001 \\times 0.999 \\times 0.998 + 0.29 \\times 0.999 \\times 0.002 \\\\\n",
        "&+ 0.94 \\times 0.001 \\times 0.998 + 0.95 \\times 0.001 \\times 0.002 \\\\\n",
        "&= 0.00251863\n",
        "\\end{align*}\n",
        "\n",
        "\\begin{align*}\n",
        "P(Umbrella = 0) &= 0.95 \\times (1 - 0.00251863) + 0.1 \\times 0.00251863 \\\n",
        "&= 0.9476035\n",
        "\\end{align*}\n",
        "\n",
        "1.2 \n",
        "\n",
        "Bayes theorem:\n",
        "\n",
        "$P(Rain = 1 \\mid Atmospheric Pressure = 0) = \\frac{P(Atmospheric Pressure = 0 \\mid Rain = 1) \\cdot P(Rain = 1)}{P(Atmospheric Pressure = 0)}$\n",
        "\n",
        "\\begin{aligned}\n",
        "P(Atmospheric Pressure = 0) &= P(Atmospheric Pressure = 0 \\mid Season = 0) \\cdot P(Season = 0) + P(Atmospheric Pressure = 0 \\mid Season = 1) \\cdot P(Season = 1) \\\\\n",
        "&= (1 - P(Rain = 1 \\mid Season = 0, Atmospheric Pressure = 0)) \\cdot P(Season = 0) \\\\\n",
        "&\\quad + (1 - P(Rain = 1 \\mid Season = 1, Atmospheric Pressure = 0)) \\cdot P(Season = 1) \\\\\n",
        "&= (1 - 0.001) \\cdot 0.999 + (1 - 0.94) \\cdot 0.001 \\\\\n",
        "&= 0.000999 + 0.00006 \\\\\n",
        "&= 0.001059\n",
        "\\end{aligned}\n",
        "\n",
        "\\begin{aligned}\n",
        "P(Rain = 1 \\mid Atmospheric Pressure = 0) &= \\frac{P(Atmospheric Pressure = 0 \\mid Rain = 1) \\cdot P(Rain = 1)}{P(Atmospheric Pressure = 0)} \\\\\n",
        "&= \\frac{(1 - P(Atmospheric Pressure = 1 \\mid Rain = 1)) \\cdot P(Rain = 1)}{P(Atmospheric Pressure = 0)} \\\\\n",
        "&\\approx 0.047\n",
        "\\end{aligned}\n",
        "\n",
        "1.3\n",
        "\n",
        "Bayes theorem:\n",
        "\n",
        "$P(Season = 1 | Rain = 1) = \\frac{P(Rain = 1 | Season = 1) \\times P(Season = 1)}{P(Rain = 1)}$\n",
        "\n",
        "Law of total probability:\n",
        "\n",
        "$P(Rain = 1) = P(Rain = 1 | Season = 0, Atmospheric Pressure = 0) \\times P(Season = 0) \\times P(Atmospheric Pressure = 0) + P(Rain = 1 | Season = 0, Atmospheric Pressure = 1) \\times P(Season = 0) \\times P(Atmospheric Pressure = 1) + P(Rain = 1 | Season = 1, Atmospheric Pressure = 0) \\times P(Season = 1) \\times P(Atmospheric Pressure = 0) + P(Rain = 1 | Season = 1, Atmospheric Pressure = 1) \\times P(Season = 1) \\times P(Atmospheric Pressure = 1)$\n",
        "\n",
        "$P(Rain = 1) = 0.001 \\times 0.999 \\times 0.998 + 0.29 \\times 0.999 \\times 0.002 + 0.94 \\times 0.001 \\times 0.998 + 0.95 \\times 0.001 \\times 0.002$\n",
        "$= 0.00094398 + 0.00057502 + 0.0009386 + 0.00000095$\n",
        "$= 0.00245855$\n",
        "\n",
        "$P(Season = 1 | Rain = 1) = \\frac{0.95 \\times 0.001}{0.00245855} = 0.386$ = 38.6%"
      ]
    },
    {
      "cell_type": "markdown",
      "metadata": {
        "id": "JtGre3IncorE"
      },
      "source": [
        "## Q2. Logistic Regression (20 points)\n",
        "\n",
        "2.1 Suppose you are trying to learn a logistic regression based classifier on a dataset $D = (x_i, y_i)^n$, i.e., you have n data samples in this dataset where each $x_i$ is a d-dimensional vector and $y_i \\in \\{-1,1\\}$. Learning this classifier requires to find optimal $w$ and $b$ so that the probability of a data point $x$ belonging to class 1 is given by $\\sigma(w^Tx+b)$ where $\\sigma$ is the sigmoid function. Write the cost function as a function of $w$ and $b$ for this problem in a way that it tries to minimize the log loss function over the given dataset. You can learn more about the log loss [here](https://developers.google.com/machine-learning/crash-course/logistic-regression/model-training). (10 points)\n",
        "\n"
      ]
    },
    {
      "cell_type": "markdown",
      "metadata": {
        "id": "aIPaEHeyenD-"
      },
      "source": [
        "2.2 Now consider a simpler problem with 2-dimensional data $x = [x_1, x_2]$. Given you have learnt optimal $w = [1,2]$ and $b = 0$. Draw the decision boundary for this classifier. Given this decision boundary, how do you classify a point $x=[1,1]$? (8+2=10 points)\n"
      ]
    },
    {
      "attachments": {},
      "cell_type": "markdown",
      "metadata": {
        "id": "2QjVoh8WhRhg"
      },
      "source": [
        "Answer:\n",
        "\n",
        "2.1 \n",
        "\n",
        "Log loss = $\\displaystyle\\sum_{i=1}^{n} (-y_i \\log(y') - (1-y_i) \\log(1-y'))$\n",
        "\n",
        "where $y' = \\sigma(w^Tx+b)$.\n",
        "\n",
        "Log loss = $\\displaystyle\\sum_{i=1}^{n} (-(1+y_i) \\log(\\sigma(w^Tx_i+b)) - (1-y_i) \\log(1-\\sigma(w^Tx_i+b)))$\n",
        "\n",
        "2.2 \n",
        "\n",
        "By inserting $w = [1,2]$ and $b = 0$ in the equation $w^Tx + b = 0$ we get $x_1 + 2x_2 = 0$. This equation gives us the decision boundary which looks like this:\n",
        "\n",
        "![alt text](DBoundary.png)\n",
        "\n",
        "\n",
        "To classify the point $x=[1,1]$, we can plug in the values of $x_1$ and $x_2$ into the equation of the decision boundary to get $1+2(1) = 3 > 0$, which means the point is on the positive side of the boundary. Therefore, it would be classified as belonging to class 1.\n",
        "\n"
      ]
    },
    {
      "cell_type": "markdown",
      "metadata": {
        "id": "G5-HxsO4hTzL"
      },
      "source": [
        "# Q3. Logistic Regression for Imbalanced Datasets (25 points)\n",
        "\n",
        "Consider a binary imbalanced class problem given in the [`hw5_classification_dataset.csv`](https://drive.google.com/file/d/1KAEOYPfMVw2oIhMIPGTXAriBNhPawZtI/view?usp=share_link). Load the dataset into a pandas dataframe and print label distribution.\n",
        "\n",
        "3.1 Data Pre-processing : Perform one-hot encoding of the features named `['InternetService','Contract','PaymentMethod']` to get the dummy features. (3 points)\n",
        "\n",
        "3.2 Training : Train a logistic regression classifier after splitting the data in train/test datasets using 80/20 split and random_state = 15. Obtain and report the confusion matrix, accuracy and the AUC-ROC score of the classifier on the test data. What do you observe with respect to the performance of the model on different classes? (10 points)\n",
        "\n",
        "3.3 Now, use class weights to modify the cost of wrong predictions for different classes differently by appropriately setting the `class_weight` parameter in the logistic regression classifier. Again print the confusion matrix, accuracy and the AUC-ROC score of the classifier on the test data. (7 points)\n",
        "\n",
        "3.4 Mention an alternative method that could be used to address class imbalance in classification problems, briefly explaining how this method works and providing a reference (5 points)\n",
        "\n"
      ]
    },
    {
      "cell_type": "code",
      "execution_count": 25,
      "metadata": {
        "id": "kHcUr_z0IZDB"
      },
      "outputs": [],
      "source": [
        "import pandas as pd\n",
        "import numpy as np\n",
        "import matplotlib.pyplot as plt\n",
        "\n",
        "from sklearn.model_selection import train_test_split\n",
        "from sklearn.metrics import roc_auc_score\n",
        "from sklearn import metrics\n",
        "from sklearn.metrics import confusion_matrix\n",
        "\n",
        "df = pd.read_csv('hw5_classification_dataset.csv', index_col = [0])"
      ]
    },
    {
      "cell_type": "code",
      "execution_count": 26,
      "metadata": {},
      "outputs": [
        {
          "data": {
            "text/plain": [
              "<Axes: title={'center': 'Count (Label)'}>"
            ]
          },
          "execution_count": 26,
          "metadata": {},
          "output_type": "execute_result"
        },
        {
          "data": {
            "image/png": "[encoded data removed]",
            "text/plain": [
              "<Figure size 640x480 with 1 Axes>"
            ]
          },
          "metadata": {},
          "output_type": "display_data"
        }
      ],
      "source": [
        "df['Label'].value_counts().plot(kind='bar', title='Count (Label)')"
      ]
    },
    {
      "cell_type": "code",
      "execution_count": 27,
      "metadata": {},
      "outputs": [],
      "source": [
        "# One hot encoding the columns with categorical data\n",
        "df_ohe = df[['InternetService','Contract','PaymentMethod']]\n",
        "df_ohe = pd.get_dummies(df_ohe, drop_first = True)\n",
        "df = pd.concat([df, df_ohe], axis = 1)\n",
        "df.drop(['InternetService','Contract','PaymentMethod'], axis = 1, inplace = True)"
      ]
    },
    {
      "cell_type": "code",
      "execution_count": 28,
      "metadata": {
        "id": "UwDi3DrMI1QN"
      },
      "outputs": [],
      "source": [
        "# Train test split\n",
        "from sklearn.model_selection import train_test_split\n",
        "X = df.drop(['Label'], axis = 1)\n",
        "y = df['Label']\n",
        "X_train, X_test, y_train, y_test = train_test_split(X, y, test_size = 0.2, random_state = 15)"
      ]
    },
    {
      "cell_type": "code",
      "execution_count": 29,
      "metadata": {
        "id": "qK8r4YxBJO-7"
      },
      "outputs": [
        {
          "name": "stdout",
          "output_type": "stream",
          "text": [
            "Logistic Regression\n",
            "Confusion Matrix\n",
            "[[950  90]\n",
            " [170 197]]\n",
            "F1 Score\n",
            "0.6024464831804281\n",
            "ROC AUC Score\n",
            "0.7251231398029763\n"
          ]
        }
      ],
      "source": [
        "from sklearn.linear_model import LogisticRegression\n",
        "from sklearn.metrics import confusion_matrix\n",
        "from sklearn.metrics import f1_score, roc_auc_score\n",
        "# Answer here\n",
        "\n",
        "# Logistic Regression\n",
        "logreg = LogisticRegression()\n",
        "logreg.fit(X_train, y_train)\n",
        "y_pred = logreg.predict(X_test)\n",
        "print('Logistic Regression')\n",
        "print('Confusion Matrix')\n",
        "print(confusion_matrix(y_test, y_pred))\n",
        "print('F1 Score')\n",
        "print(f1_score(y_test, y_pred))\n",
        "print('ROC AUC Score')\n",
        "print(roc_auc_score(y_test, y_pred))\n"
      ]
    },
    {
      "cell_type": "code",
      "execution_count": 30,
      "metadata": {},
      "outputs": [
        {
          "name": "stdout",
          "output_type": "stream",
          "text": [
            "Logistic Regression\n",
            "Confusion Matrix\n",
            "[[746 294]\n",
            " [ 80 287]]\n",
            "F1 Score\n",
            "0.6054852320675105\n",
            "ROC AUC Score\n",
            "0.7496620205407671\n"
          ]
        }
      ],
      "source": [
        "# Modify class weights to get better results\n",
        "logreg = LogisticRegression(class_weight = 'balanced', max_iter = 10000)\n",
        "logreg.fit(X_train, y_train)\n",
        "y_pred = logreg.predict(X_test)\n",
        "print('Logistic Regression')\n",
        "print('Confusion Matrix')\n",
        "print(confusion_matrix(y_test, y_pred))\n",
        "print('F1 Score')\n",
        "print(f1_score(y_test, y_pred))\n",
        "print('ROC AUC Score')\n",
        "print(roc_auc_score(y_test, y_pred))"
      ]
    },
    {
      "attachments": {},
      "cell_type": "markdown",
      "metadata": {},
      "source": [
        "### Alt method of rebalancing"
      ]
    },
    {
      "cell_type": "markdown",
      "metadata": {
        "id": "NGEJne27SGfq"
      },
      "source": [
        "# Question 4 - Ensembles methods for classification (40 pts)\n",
        "\n",
        "We will use the dataset from the kaggle competition [GiveMeSomeCredit](https://www.kaggle.com/c/GiveMeSomeCredit). We will work on a smaller version of this dataset. The dataset is available on canvas as ensemble-dataset.csv. \n",
        "We will predict the probability that somebody will experience financial distress in the next two years. The dataset has already been split into train and test sets for you."
      ]
    },
    {
      "cell_type": "code",
      "execution_count": 31,
      "metadata": {
        "colab": {
          "base_uri": "https://localhost:8080/",
          "height": 270
        },
        "id": "cKXWaSd6OH4A",
        "outputId": "eb8b7b6a-46c2-48e8-ac11-7a20d67ca3cc"
      },
      "outputs": [
        {
          "data": {
            "text/html": [
              "<div>\n",
              "<style scoped>\n",
              "    .dataframe tbody tr th:only-of-type {\n",
              "        vertical-align: middle;\n",
              "    }\n",
              "\n",
              "    .dataframe tbody tr th {\n",
              "        vertical-align: top;\n",
              "    }\n",
              "\n",
              "    .dataframe thead th {\n",
              "        text-align: right;\n",
              "    }\n",
              "</style>\n",
              "<table border=\"1\" class=\"dataframe\">\n",
              "  <thead>\n",
              "    <tr style=\"text-align: right;\">\n",
              "      <th></th>\n",
              "      <th>SeriousDlqin2yrs</th>\n",
              "      <th>RevolvingUtilizationOfUnsecuredLines</th>\n",
              "      <th>age</th>\n",
              "      <th>NumberOfTime30.59DaysPastDueNotWorse</th>\n",
              "      <th>DebtRatio</th>\n",
              "      <th>MonthlyIncome</th>\n",
              "      <th>NumberOfOpenCreditLinesAndLoans</th>\n",
              "      <th>NumberOfTimes90DaysLate</th>\n",
              "      <th>NumberRealEstateLoansOrLines</th>\n",
              "      <th>NumberOfTime60.89DaysPastDueNotWorse</th>\n",
              "      <th>NumberOfDependents</th>\n",
              "    </tr>\n",
              "  </thead>\n",
              "  <tbody>\n",
              "    <tr>\n",
              "      <th>0</th>\n",
              "      <td>0</td>\n",
              "      <td>1.062646</td>\n",
              "      <td>50</td>\n",
              "      <td>2</td>\n",
              "      <td>0.179032</td>\n",
              "      <td>3490</td>\n",
              "      <td>8</td>\n",
              "      <td>1</td>\n",
              "      <td>0</td>\n",
              "      <td>1</td>\n",
              "      <td>1</td>\n",
              "    </tr>\n",
              "    <tr>\n",
              "      <th>1</th>\n",
              "      <td>0</td>\n",
              "      <td>0.003591</td>\n",
              "      <td>83</td>\n",
              "      <td>0</td>\n",
              "      <td>0.000869</td>\n",
              "      <td>10352</td>\n",
              "      <td>14</td>\n",
              "      <td>0</td>\n",
              "      <td>0</td>\n",
              "      <td>0</td>\n",
              "      <td>0</td>\n",
              "    </tr>\n",
              "    <tr>\n",
              "      <th>2</th>\n",
              "      <td>0</td>\n",
              "      <td>1.000000</td>\n",
              "      <td>22</td>\n",
              "      <td>0</td>\n",
              "      <td>0.000000</td>\n",
              "      <td>100</td>\n",
              "      <td>1</td>\n",
              "      <td>0</td>\n",
              "      <td>0</td>\n",
              "      <td>0</td>\n",
              "      <td>0</td>\n",
              "    </tr>\n",
              "    <tr>\n",
              "      <th>3</th>\n",
              "      <td>0</td>\n",
              "      <td>0.000000</td>\n",
              "      <td>52</td>\n",
              "      <td>0</td>\n",
              "      <td>0.336355</td>\n",
              "      <td>7060</td>\n",
              "      <td>10</td>\n",
              "      <td>0</td>\n",
              "      <td>2</td>\n",
              "      <td>0</td>\n",
              "      <td>3</td>\n",
              "    </tr>\n",
              "    <tr>\n",
              "      <th>4</th>\n",
              "      <td>0</td>\n",
              "      <td>0.220152</td>\n",
              "      <td>54</td>\n",
              "      <td>0</td>\n",
              "      <td>0.235064</td>\n",
              "      <td>4083</td>\n",
              "      <td>15</td>\n",
              "      <td>0</td>\n",
              "      <td>0</td>\n",
              "      <td>0</td>\n",
              "      <td>1</td>\n",
              "    </tr>\n",
              "  </tbody>\n",
              "</table>\n",
              "</div>"
            ],
            "text/plain": [
              "   SeriousDlqin2yrs  RevolvingUtilizationOfUnsecuredLines  age  \\\n",
              "0                 0                              1.062646   50   \n",
              "1                 0                              0.003591   83   \n",
              "2                 0                              1.000000   22   \n",
              "3                 0                              0.000000   52   \n",
              "4                 0                              0.220152   54   \n",
              "\n",
              "   NumberOfTime30.59DaysPastDueNotWorse  DebtRatio  MonthlyIncome  \\\n",
              "0                                     2   0.179032           3490   \n",
              "1                                     0   0.000869          10352   \n",
              "2                                     0   0.000000            100   \n",
              "3                                     0   0.336355           7060   \n",
              "4                                     0   0.235064           4083   \n",
              "\n",
              "   NumberOfOpenCreditLinesAndLoans  NumberOfTimes90DaysLate  \\\n",
              "0                                8                        1   \n",
              "1                               14                        0   \n",
              "2                                1                        0   \n",
              "3                               10                        0   \n",
              "4                               15                        0   \n",
              "\n",
              "   NumberRealEstateLoansOrLines  NumberOfTime60.89DaysPastDueNotWorse  \\\n",
              "0                             0                                     1   \n",
              "1                             0                                     0   \n",
              "2                             0                                     0   \n",
              "3                             2                                     0   \n",
              "4                             0                                     0   \n",
              "\n",
              "   NumberOfDependents  \n",
              "0                   1  \n",
              "1                   0  \n",
              "2                   0  \n",
              "3                   3  \n",
              "4                   1  "
            ]
          },
          "execution_count": 31,
          "metadata": {},
          "output_type": "execute_result"
        }
      ],
      "source": [
        "import pandas as pd\n",
        "data = pd.read_csv('ensemble-dataset.csv')\n",
        "data.head()"
      ]
    },
    {
      "cell_type": "code",
      "execution_count": 32,
      "metadata": {
        "colab": {
          "base_uri": "https://localhost:8080/"
        },
        "id": "8gDtJv05SQ1a",
        "outputId": "8be1feeb-4eb1-4cf1-dbfc-d1ca4a0c79e0"
      },
      "outputs": [
        {
          "name": "stdout",
          "output_type": "stream",
          "text": [
            "train (3382, 10) (3382,)\n",
            "test (1667, 10) (1667,)\n"
          ]
        }
      ],
      "source": [
        "from sklearn.model_selection import train_test_split\n",
        "y = data['SeriousDlqin2yrs']\n",
        "X = data.drop(['SeriousDlqin2yrs'],axis=1)\n",
        "X_train, X_test, y_train, y_test = train_test_split(X, y, test_size = 0.33, random_state = 42)\n",
        "\n",
        "print('train',X_train.shape,y_train.shape)\n",
        "print('test',X_test.shape,y_test.shape)"
      ]
    },
    {
      "cell_type": "markdown",
      "metadata": {
        "id": "y8go9I7xSVVJ"
      },
      "source": [
        "In this question, we will compare performance of different ensemble methods for classification problems: [Bagging](https://scikit-learn.org/stable/modules/generated/sklearn.ensemble.BaggingClassifier.html), [Random Forest](https://scikit-learn.org/stable/modules/generated/sklearn.ensemble.RandomForestClassifier.html), and [XGBoost](https://xgboost.readthedocs.io/en/stable/get_started.html) Classifiers. When training each of these models, use [GridSearchCV](https://scikit-learn.org/stable/modules/generated/sklearn.model_selection.GridSearchCV.html) to perform a hyperparameter search using only the train data with `cv=3`, and report the best hyperparameters you have found. For each of the models below, report the [log_loss](https://scikit-learn.org/stable/modules/generated/sklearn.metrics.log_loss.html), accuracy_score, roc_auc_score and the [calibration curve plot](https://scikit-learn.org/stable/modules/generated/sklearn.calibration.CalibrationDisplay.html#sklearn.calibration.CalibrationDisplay.from_estimator) using the best hyperparameters you have found. \n",
        "\n",
        "4.1 Use an MLP with random_state = 42. (7 points)\n",
        "\n",
        "4.2 Use a Decision Tree Classifier with random_state = 42. (7 points)\n",
        "\n",
        "4.3 Create an ensemble of 20 classifiers (i.e n_estimators = 20) with random_state = 42 for [bagging](https://scikit-learn.org/stable/modules/generated/sklearn.ensemble.BaggingClassifier.html) with base classifier as Decision Tree Classifier from part 1. (7 points)\n",
        "\n",
        "4.4 Use a [Random Forest](http://scikit-learn.org/stable/modules/generated/sklearn.ensemble.RandomForestClassifier.html) classifier with random_state=42. (7 points)\n",
        "\n",
        "4.5 Use [XGBoost](https://xgboost.readthedocs.io/en/stable/get_started.html) with random_state=42. (7 points)\n",
        "\n",
        "4.6 Compare the performance of the decision tree and MLP with the ensemble methods based on the results you have obtained (all 4 metrics). (5 points)"
      ]
    },
    {
      "cell_type": "code",
      "execution_count": 33,
      "metadata": {
        "id": "26y3CVzA40Bq"
      },
      "outputs": [],
      "source": [
        "import matplotlib.pyplot as plt\n",
        "from sklearn.model_selection import (train_test_split,GridSearchCV)\n",
        "from sklearn.metrics import (accuracy_score,roc_auc_score)\n",
        "from sklearn.ensemble import (RandomForestClassifier,GradientBoostingClassifier,AdaBoostClassifier)\n",
        "from sklearn.ensemble import RandomForestClassifier, BaggingClassifier\n",
        "from sklearn.metrics import confusion_matrix, classification_report\n",
        "from sklearn.tree import DecisionTreeClassifier\n",
        "from sklearn.model_selection import GridSearchCV\n",
        "\n",
        "from time import time\n",
        "%matplotlib inline"
      ]
    },
    {
      "cell_type": "code",
      "execution_count": 34,
      "metadata": {
        "id": "2cix_0SJ44YW"
      },
      "outputs": [],
      "source": [
        "columns_list = list(X.columns)"
      ]
    },
    {
      "cell_type": "code",
      "execution_count": 35,
      "metadata": {
        "id": "fgsy9L-N45-A"
      },
      "outputs": [],
      "source": [
        "def grid_search(model, params, model_name):\n",
        "    # define your GridSearchCV object with the relevant parameters\n",
        "    # TODO\n",
        "    cv = GridSearchCV(model, params, cv=3)\n",
        "\n",
        "    # fit the grid search model with the train data and print the best parameters\n",
        "    # TODO\n",
        "    cv.fit(X_train, y_train)\n",
        "    print()\n",
        "    print()\n",
        "    print(\"Best parameters for {} are {}\".format(model_name, cv.best_params_))\n",
        "\n",
        "    # use the fitted model with the best parameters to predict on the test set and report the metrics\n",
        "    # TODO\n",
        "    y_pred = cv.predict(X_test)\n",
        "    print(\"Accuracy score for {} is {}\".format(model_name, accuracy_score(y_test, y_pred)))\n",
        "    print(\"ROC AUC score for {} is {}\".format(model_name, roc_auc_score(y_test, y_pred)))\n",
        "    print(\"Confusion matrix for {} is {}\".format(model_name, confusion_matrix(y_test, y_pred)))\n",
        "    print(\"Classification report for {} is {}\".format(model_name, classification_report(y_test, y_pred)))\n",
        "    print()\n",
        "    print()"
      ]
    },
    {
      "cell_type": "code",
      "execution_count": 36,
      "metadata": {},
      "outputs": [
        {
          "name": "stdout",
          "output_type": "stream",
          "text": [
            "\n",
            "\n",
            "Best parameters for MLPClassifier are {'activation': 'relu', 'hidden_layer_sizes': (100,), 'learning_rate': 'adaptive', 'shuffle': False, 'solver': 'adam', 'warm_start': True}\n",
            "Accuracy score for MLPClassifier is 0.9364127174565087\n",
            "ROC AUC score for MLPClassifier is 0.5092592592592593\n",
            "Confusion matrix for MLPClassifier is [[1559    0]\n",
            " [ 106    2]]\n",
            "Classification report for MLPClassifier is               precision    recall  f1-score   support\n",
            "\n",
            "           0       0.94      1.00      0.97      1559\n",
            "           1       1.00      0.02      0.04       108\n",
            "\n",
            "    accuracy                           0.94      1667\n",
            "   macro avg       0.97      0.51      0.50      1667\n",
            "weighted avg       0.94      0.94      0.91      1667\n",
            "\n",
            "\n",
            "\n"
          ]
        }
      ],
      "source": [
        "# MLPClassifier\n",
        "from sklearn.neural_network import MLPClassifier\n",
        "mlp = MLPClassifier(random_state = 42, max_iter=1000)\n",
        "\n",
        "# Decision Tree Classifier\n",
        "from sklearn.tree import DecisionTreeClassifier\n",
        "dtc = DecisionTreeClassifier(random_state = 42)\n",
        "\n",
        "# Random Forest Classifier\n",
        "from sklearn.ensemble import RandomForestClassifier\n",
        "rfc = RandomForestClassifier(random_state = 42)\n",
        "\n",
        "# XGBoost Classifier\n",
        "from xgboost import XGBClassifier\n",
        "xgb = XGBClassifier(random_state = 42)\n",
        "\n",
        "import warnings\n",
        "warnings.filterwarnings('ignore')\n",
        "\n",
        "# Grid search each model\n",
        "grid_search(mlp, {\n",
        "                  'hidden_layer_sizes': [(10,),(20,),(50,),(60,),(90,),(100,)],\n",
        "                  'activation': ['relu', 'logistic', 'tanh'],\n",
        "                  'solver': ['sgd', 'adam'],\n",
        "                  'learning_rate': ['adaptive', 'constant'],\n",
        "                  'shuffle': [True, False],\n",
        "                  'warm_start': [True, False]}, 'MLPClassifier')"
      ]
    },
    {
      "cell_type": "code",
      "execution_count": 38,
      "metadata": {},
      "outputs": [
        {
          "name": "stdout",
          "output_type": "stream",
          "text": [
            "\n",
            "\n",
            "Best parameters for DecisionTreeClassifier are {'criterion': 'gini', 'max_depth': 5, 'max_features': 'sqrt', 'max_leaf_nodes': 20, 'min_samples_leaf': 1, 'min_samples_split': 1}\n",
            "Accuracy score for DecisionTreeClassifier is 0.9352129574085183\n",
            "ROC AUC score for DecisionTreeClassifier is 0.5732514907466799\n",
            "Confusion matrix for DecisionTreeClassifier is [[1542   17]\n",
            " [  91   17]]\n",
            "Classification report for DecisionTreeClassifier is               precision    recall  f1-score   support\n",
            "\n",
            "           0       0.94      0.99      0.97      1559\n",
            "           1       0.50      0.16      0.24       108\n",
            "\n",
            "    accuracy                           0.94      1667\n",
            "   macro avg       0.72      0.57      0.60      1667\n",
            "weighted avg       0.92      0.94      0.92      1667\n",
            "\n",
            "\n",
            "\n"
          ]
        }
      ],
      "source": [
        "grid_search(dtc, {\n",
        "                  'criterion': ['gini', 'entropy', 'log_loss'],\n",
        "                  'max_depth': [1,2,3,4,5,10,20],\n",
        "                  'min_samples_split': [1,2,3,4,5,10,20],\n",
        "                  'min_samples_leaf': [1,2,3,4,5,10,20],\n",
        "                  'max_features': ['sqrt', 'log2', 'auto'],\n",
        "                  'max_leaf_nodes': [1,2,3,4,5,10,20]},'DecisionTreeClassifier',)"
      ]
    },
    {
      "cell_type": "code",
      "execution_count": 39,
      "metadata": {},
      "outputs": [
        {
          "name": "stdout",
          "output_type": "stream",
          "text": [
            "\n",
            "\n",
            "Best parameters for RandomForestClassifier are {'max_depth': 5, 'max_features': 'sqrt', 'max_leaf_nodes': 20, 'min_samples_leaf': 3, 'min_samples_split': 1, 'n_estimators': 40}\n",
            "Accuracy score for RandomForestClassifier is 0.9364127174565087\n",
            "ROC AUC score for RandomForestClassifier is 0.5437305490224028\n",
            "Confusion matrix for RandomForestClassifier is [[1551    8]\n",
            " [  98   10]]\n",
            "Classification report for RandomForestClassifier is               precision    recall  f1-score   support\n",
            "\n",
            "           0       0.94      0.99      0.97      1559\n",
            "           1       0.56      0.09      0.16       108\n",
            "\n",
            "    accuracy                           0.94      1667\n",
            "   macro avg       0.75      0.54      0.56      1667\n",
            "weighted avg       0.92      0.94      0.91      1667\n",
            "\n",
            "\n",
            "\n"
          ]
        }
      ],
      "source": [
        "grid_search(rfc, {\n",
        "                  'n_estimators': [10,20,30,40,50],\n",
        "                  'max_depth': [1,2,3,4,5,10,20],\n",
        "                  'min_samples_split': [1,2,3,4,5,10,20],\n",
        "                  'min_samples_leaf': [1,2,3,4,5,10,20],\n",
        "                  'max_features': ['sqrt', 'log2'],\n",
        "                  'max_leaf_nodes': [1,2,3,4,5,10,20]}, 'RandomForestClassifier')"
      ]
    },
    {
      "cell_type": "code",
      "execution_count": 41,
      "metadata": {},
      "outputs": [
        {
          "name": "stdout",
          "output_type": "stream",
          "text": [
            "\n",
            "\n",
            "Best parameters for XGBClassifier are {'grow_policy': 'depthwise', 'max_depth': 1, 'max_leaves': 1, 'n_estimators': 20}\n",
            "Accuracy score for XGBClassifier is 0.9370125974805039\n",
            "ROC AUC score for XGBClassifier is 0.5440512674316395\n",
            "Confusion matrix for XGBClassifier is [[1552    7]\n",
            " [  98   10]]\n",
            "Classification report for XGBClassifier is               precision    recall  f1-score   support\n",
            "\n",
            "           0       0.94      1.00      0.97      1559\n",
            "           1       0.59      0.09      0.16       108\n",
            "\n",
            "    accuracy                           0.94      1667\n",
            "   macro avg       0.76      0.54      0.56      1667\n",
            "weighted avg       0.92      0.94      0.91      1667\n",
            "\n",
            "\n",
            "\n"
          ]
        }
      ],
      "source": [
        "grid_search(xgb, {\n",
        "                  'n_estimators': [10,20,30,40,50], \n",
        "                  'max_depth': [1,2,3,4,5,10,20],\n",
        "                  'max_leaves': [1,2,3,4,5,10,20],\n",
        "                  'grow_policy': ['depthwise','lossguide']}, 'XGBClassifier')"
      ]
    },
    {
      "cell_type": "code",
      "execution_count": 42,
      "metadata": {},
      "outputs": [
        {
          "name": "stdout",
          "output_type": "stream",
          "text": [
            "\n",
            "\n",
            "Best parameters for BaggingClassifier are {'bootstrap': True, 'max_features': 1, 'max_samples': 1, 'n_estimators': 20}\n",
            "Accuracy score for BaggingClassifier is 0.9352129574085183\n",
            "ROC AUC score for BaggingClassifier is 0.5\n",
            "Confusion matrix for BaggingClassifier is [[1559    0]\n",
            " [ 108    0]]\n",
            "Classification report for BaggingClassifier is               precision    recall  f1-score   support\n",
            "\n",
            "           0       0.94      1.00      0.97      1559\n",
            "           1       0.00      0.00      0.00       108\n",
            "\n",
            "    accuracy                           0.94      1667\n",
            "   macro avg       0.47      0.50      0.48      1667\n",
            "weighted avg       0.87      0.94      0.90      1667\n",
            "\n",
            "\n",
            "\n"
          ]
        }
      ],
      "source": [
        "# Bagging Classifier using Decision Tree Classifier\n",
        "from sklearn.ensemble import BaggingClassifier\n",
        "bagging = BaggingClassifier(estimator = dtc, random_state = 42)\n",
        "grid_search(bagging, {'n_estimators': [20], \n",
        "                      \"max_samples\": [1,2,3,4,5,10,20], \n",
        "                      \"max_features\": [1,2,3,4,5,10,20], \n",
        "                      \"bootstrap\": [True, False]}, 'BaggingClassifier')"
      ]
    },
    {
      "cell_type": "markdown",
      "metadata": {
        "id": "NblG4pg140ga"
      },
      "source": [
        "Answer:"
      ]
    }
  ],
  "metadata": {
    "colab": {
      "provenance": []
    },
    "kernelspec": {
      "display_name": "Python 3",
      "name": "python3"
    },
    "language_info": {
      "codemirror_mode": {
        "name": "ipython",
        "version": 3
      },
      "file_extension": ".py",
      "mimetype": "text/x-python",
      "name": "python",
      "nbconvert_exporter": "python",
      "pygments_lexer": "ipython3",
      "version": "3.11.0"
    }
  },
  "nbformat": 4,
  "nbformat_minor": 0
}
